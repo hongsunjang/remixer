{
 "cells": [
  {
   "cell_type": "code",
   "execution_count": 5,
   "id": "e6265adc-1b68-4f87-bafa-e2040f4a3469",
   "metadata": {},
   "outputs": [],
   "source": [
    "from glob import glob\n",
    "from tqdm import tqdm\n",
    "import librosa\n",
    "import numpy as np\n",
    "import cv2\n",
    "import matplotlib.pyplot as plt"
   ]
  },
  {
   "cell_type": "code",
   "execution_count": 6,
   "id": "70640623-ced6-440f-b22f-80469cc14523",
   "metadata": {},
   "outputs": [],
   "source": [
    "wav_list = glob('/home/hahajjjun/Junha Park/REMIX/data/*.wav')"
   ]
  },
  {
   "cell_type": "code",
   "execution_count": 7,
   "id": "1d155a6c-f0fa-4c47-b8f1-3345275677fd",
   "metadata": {},
   "outputs": [],
   "source": [
    "def wav2mel(idx, path):\n",
    "    audio, sample_rate= librosa.load(path)\n",
    "    spec = librosa.feature.melspectrogram(\n",
    "        y=audio, \n",
    "        sr=sample_rate, \n",
    "        n_fft=2048, \n",
    "        hop_length=512, \n",
    "        win_length=None, \n",
    "        window='hann', \n",
    "        center=True, \n",
    "        pad_mode='reflect', \n",
    "        power=2.0,\n",
    "        n_mels=512\n",
    "    )\n",
    "    spec = cv2.resize(spec, (512, 512))\n",
    "    plt.imsave(f'mel_{idx}.png', spec)"
   ]
  },
  {
   "cell_type": "code",
   "execution_count": 8,
   "id": "4c0612e2-df81-4a13-bdca-eede3f81de1b",
   "metadata": {},
   "outputs": [
    {
     "name": "stderr",
     "output_type": "stream",
     "text": [
      "165it [01:51,  1.49it/s]\n"
     ]
    }
   ],
   "source": [
    "encoder = {}\n",
    "for idx, wav_file in tqdm(enumerate(wav_list)):\n",
    "    wav2mel(idx, wav_file)\n",
    "    encoder[idx] = wav_file"
   ]
  },
  {
   "cell_type": "code",
   "execution_count": 69,
   "id": "f06863e9-ed12-4cbd-b3bf-961da8934539",
   "metadata": {},
   "outputs": [],
   "source": [
    "import json\n",
    "with open(\"encode.json\", \"w\") as json_file:\n",
    "    json.dump(encoder, json_file)"
   ]
  }
 ],
 "metadata": {
  "kernelspec": {
   "display_name": "molly",
   "language": "python",
   "name": "molly"
  },
  "language_info": {
   "codemirror_mode": {
    "name": "ipython",
    "version": 3
   },
   "file_extension": ".py",
   "mimetype": "text/x-python",
   "name": "python",
   "nbconvert_exporter": "python",
   "pygments_lexer": "ipython3",
   "version": "3.8.12"
  }
 },
 "nbformat": 4,
 "nbformat_minor": 5
}
